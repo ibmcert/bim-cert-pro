{
    "cells": [
        {
            "cell_type": "markdown",
            "metadata": {
                "collapsed": true
            },
            "source": "Capstone Business Problem Data:\n\nTo solve the problem, John plans to use the following three datasets:\n\n-Chicago Criminality: this dataset includes information about crimes that occurred in Chicago neighborhoods between 2001 and 2018 as well as details such as type of crimes, neighborhoods where the crimes took place and more.John plans to use these data to help locate safe neighborhoods.\n\n-Chicago Schools: it includes information about Chicago public schools in terms of safety, college preparation, neighborhoods and more. John plans to use these data to help locate popular venues and attractions. John plans to use these data to help locate safe schools for the couple's child.\n\n-Chicago Coordinates: it includes Chicago neighborhoods\u2019 geospatial data; they are not included in the above two files. They also include reviews, tips and information about popular Chicago\u2019s venues and attractions. John plans to use these data to help locate popular venues and attractions.\n"
        }
    ],
    "metadata": {
        "kernelspec": {
            "display_name": "Python 3.7",
            "language": "python",
            "name": "python3"
        },
        "language_info": {
            "codemirror_mode": {
                "name": "ipython",
                "version": 3
            },
            "file_extension": ".py",
            "mimetype": "text/x-python",
            "name": "python",
            "nbconvert_exporter": "python",
            "pygments_lexer": "ipython3",
            "version": "3.7.9"
        }
    },
    "nbformat": 4,
    "nbformat_minor": 1
}
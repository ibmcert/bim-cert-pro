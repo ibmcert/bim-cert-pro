{
    "cells": [
        {
            "cell_type": "markdown",
            "metadata": {},
            "source": "## Capstone Business Problem Statement ##\n\nA young French couple recently moved from Paris to Chicago and would like to open a restaurant to showcase famous French dishes. They are confident in their culinary skills and convinced that their new business venture will be a success if they can find a great location for their restaurant. They hired John, a Chicago native who recently open a marketing consulting business after working for a large analytics consulting firm for several years. The young couple would like the restaurant to meet the following requirements:\n1. Target customers: tourists, business employees and local residents who are looking for delicious lunch or dinners \n2. Private residence: since they are new to the city they would like to reside in a safe neighborhood they can return to after long hours at the restaurant. \n3. Commute: they will prefer a short commute since they will be spending most of their day at the restaurant. \n4. School: they also have a young child and would like him to attend an elementary school with good safety and college enrollment records \n5. Deleverables: they would like John to recommend a list of three locations on a Chicago map that meet the above four requirements"
        }
    ],
    "metadata": {
        "kernelspec": {
            "display_name": "Python 3.7",
            "language": "python",
            "name": "python3"
        },
        "language_info": {
            "codemirror_mode": {
                "name": "ipython",
                "version": 3
            },
            "file_extension": ".py",
            "mimetype": "text/x-python",
            "name": "python",
            "nbconvert_exporter": "python",
            "pygments_lexer": "ipython3",
            "version": "3.7.9"
        }
    },
    "nbformat": 4,
    "nbformat_minor": 1
}